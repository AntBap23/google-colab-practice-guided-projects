{
  "nbformat": 4,
  "nbformat_minor": 0,
  "metadata": {
    "colab": {
      "provenance": []
    },
    "kernelspec": {
      "name": "python3",
      "display_name": "Python 3"
    },
    "language_info": {
      "name": "python"
    }
  },
  "cells": [
    {
      "cell_type": "markdown",
      "source": [
        "Guided Practice Project"
      ],
      "metadata": {
        "id": "BduSepC0oZLD"
      }
    },
    {
      "cell_type": "code",
      "source": [
        "#imports\n",
        "import random\n",
        "import numpy as np\n",
        "import pandas as pd\n",
        "from sklearn.model_selection import train_test_split\n",
        "from sklearn.feature_extraction.text import CountVectorizer, TfidfVectorizer\n",
        "from sklearn.svm import LinearSVC\n",
        "from sklearn.metrics import classification_report\n",
        "from sklearn.feature_extraction.text import CountVectorizer\n",
        "from sklearn.feature_extraction.text import TfidfTransformer\n",
        "from sklearn.naive_bayes import MultinomialNB\n",
        "from sklearn.pipeline import Pipeline\n",
        "from sklearn.svm import LinearSVC\n",
        "from sklearn.linear_model import SGDClassifier\n",
        "from sklearn.linear_model import LogisticRegression\n",
        "from sklearn.ensemble import RandomForestClassifier\n",
        "from sklearn.naive_bayes import MultinomialNB\n",
        "from sklearn.svm import SVC\n",
        "from sklearn.metrics import classification_report, confusion_matrix, accuracy_score\n",
        "from sklearn.model_selection import GridSearchCV\n",
        "from sklearn.model_selection import RandomizedSearchCV\n",
        "from sklearn.model_selection import cross_val_score\n",
        "from sklearn.model_selection import cross_val_predict\n",
        "\n"
      ],
      "metadata": {
        "id": "6T-UPJNFtP0g"
      },
      "execution_count": null,
      "outputs": []
    },
    {
      "cell_type": "code",
      "source": [
        "class Sentiment:\n",
        "    NEGATIVE = 'NEGATIVE'\n",
        "    NEUTRAL = 'NEUTRAL'\n",
        "    POSITIVE = 'POSITIVE'\n",
        "\n",
        "# Reviews Class\n",
        "class Review:\n",
        "    def __init__(self, text, score):\n",
        "        self.text = text\n",
        "        self.score = score\n",
        "        self.sentiment = self.get_sentiment()\n",
        "\n",
        "    def get_sentiment(self):\n",
        "        if self.score <= 2:\n",
        "            return Sentiment.NEGATIVE\n",
        "        elif self.score == 3:\n",
        "            return Sentiment.NEUTRAL\n",
        "        else:\n",
        "            return Sentiment.POSITIVE\n",
        "\n",
        "class ReviewContainer:\n",
        "    def __init__(self, reviews):\n",
        "        self.reviews = reviews\n",
        "\n",
        "    def get_text(self):\n",
        "        return [x.text for x in self.reviews]\n",
        "\n",
        "    def get_sentiment(self):\n",
        "        return [x.sentiment for x in self.reviews]\n",
        "\n",
        "    def distribute_evenly(self):\n",
        "      negative = list(filter(lambda x: x.sentiment == Sentiment.NEGATIVE, self.reviews))\n",
        "      positive = list(filter(lambda x: x.sentiment == Sentiment.POSITIVE, self.reviews))\n",
        "      neutral = list(filter(lambda x: x.sentiment == Sentiment.NEUTRAL, self.reviews))\n",
        "      positive_shrunk = positive[:len(negative)]\n",
        "      self.reviews = negative + positive_shrunk\n",
        "      random.shuffle(self.reviews)\n",
        "\n"
      ],
      "metadata": {
        "id": "g62NIxSxoRD2"
      },
      "execution_count": null,
      "outputs": []
    },
    {
      "cell_type": "code",
      "execution_count": null,
      "metadata": {
        "collapsed": true,
        "id": "F4L5ewELhxjb"
      },
      "outputs": [],
      "source": [
        "#load in data\n",
        "import json\n",
        "filename = 'Books_small_10000.json'\n",
        "reviews = []\n",
        "\n",
        "with open(filename) as f:\n",
        "    for line in f:\n",
        "       review = json.loads(line)\n",
        "       reviews.append(Review(review['reviewText'], review['overall']))\n",
        "\n",
        "\n",
        "\n",
        "\n",
        "\n"
      ]
    },
    {
      "cell_type": "code",
      "source": [
        "# data prep\n",
        "train, test = train_test_split(reviews, test_size=0.33, random_state=42)\n",
        "\n",
        "\n",
        "train_container = ReviewContainer(train)\n",
        "test_container = ReviewContainer(test)\n",
        "\n",
        "train_container.distribute_evenly()\n",
        "test_container.distribute_evenly()\n",
        "\n",
        "x_train = train_container.get_text()\n",
        "y_train = train_container.get_sentiment()\n",
        "\n",
        "x_test = test_container.get_text()\n",
        "y_test = test_container.get_sentiment()\n",
        "\n",
        "\n",
        "\n"
      ],
      "metadata": {
        "collapsed": true,
        "id": "_yppT0zunOYK"
      },
      "execution_count": null,
      "outputs": []
    },
    {
      "cell_type": "code",
      "source": [
        "vectorizer = TfidfVectorizer()\n",
        "\n",
        "train_x_vectors = vectorizer.fit_transform(x_train)\n",
        "test_x_vectors = vectorizer.transform(x_test)\n",
        "\n"
      ],
      "metadata": {
        "collapsed": true,
        "id": "XGF6pmxRwPkV"
      },
      "execution_count": null,
      "outputs": []
    },
    {
      "cell_type": "code",
      "source": [
        "# Linear svm\n",
        "\n",
        "clf_svc = LinearSVC()\n",
        "clf_svc.fit(train_x_vectors, y_train)\n",
        "print(clf_svc.predict(test_x_vectors[0]))\n",
        "print(clf_svc.score(test_x_vectors, y_test))\n"
      ],
      "metadata": {
        "colab": {
          "base_uri": "https://localhost:8080/"
        },
        "id": "Ac-7X7eyyUMg",
        "outputId": "a045476e-97ac-42dd-c9aa-4593fb4da9b2"
      },
      "execution_count": null,
      "outputs": [
        {
          "output_type": "stream",
          "name": "stdout",
          "text": [
            "['POSITIVE']\n",
            "0.8221153846153846\n"
          ]
        }
      ]
    },
    {
      "cell_type": "code",
      "source": [
        "# Decision Tree\n",
        "from sklearn.tree import DecisionTreeClassifier\n",
        "\n",
        "clf_dt = DecisionTreeClassifier()\n",
        "clf_dt.fit(train_x_vectors, y_train)\n",
        "print(clf_dt.predict(test_x_vectors[0]))\n",
        "print(clf_dt.score(test_x_vectors, y_test))"
      ],
      "metadata": {
        "colab": {
          "base_uri": "https://localhost:8080/"
        },
        "id": "8hr4xm2nznpj",
        "outputId": "fd37d8d2-4130-4786-8a6c-deba84e3d825"
      },
      "execution_count": null,
      "outputs": [
        {
          "output_type": "stream",
          "name": "stdout",
          "text": [
            "['NEGATIVE']\n",
            "0.6682692307692307\n"
          ]
        }
      ]
    },
    {
      "cell_type": "code",
      "source": [
        "#naive bayes\n",
        "\n",
        "clf_nb = MultinomialNB()\n",
        "clf_nb.fit(train_x_vectors, y_train)\n",
        "print(clf_nb.predict(test_x_vectors[0]))\n",
        "print(clf_nb.score(test_x_vectors, y_test))"
      ],
      "metadata": {
        "colab": {
          "base_uri": "https://localhost:8080/"
        },
        "id": "N73oO7xGz1EY",
        "outputId": "46871591-f7bc-483b-924f-5580e4481625"
      },
      "execution_count": null,
      "outputs": [
        {
          "output_type": "stream",
          "name": "stdout",
          "text": [
            "['POSITIVE']\n",
            "0.8125\n"
          ]
        }
      ]
    },
    {
      "cell_type": "code",
      "source": [
        "#f1 score\n",
        "from sklearn.metrics import f1_score\n",
        "print(f1_score(y_test, clf_svc.predict(test_x_vectors), average=None, labels=[Sentiment.POSITIVE, Sentiment.NEGATIVE]))\n",
        "print(f1_score(y_test, clf_dt.predict(test_x_vectors), average=None, labels=[Sentiment.POSITIVE, Sentiment.NEGATIVE]))\n",
        "print(f1_score(y_test, clf_nb.predict(test_x_vectors), average=None, labels=[Sentiment.POSITIVE, Sentiment.NEGATIVE]))\n"
      ],
      "metadata": {
        "colab": {
          "base_uri": "https://localhost:8080/"
        },
        "id": "lsxx1bzg0s6x",
        "outputId": "55a8b8bd-3874-4240-a5de-1cdb6df7dbfb"
      },
      "execution_count": null,
      "outputs": [
        {
          "output_type": "stream",
          "name": "stdout",
          "text": [
            "[0.82629108 0.81773399]\n",
            "[0.66009852 0.67605634]\n",
            "[0.79144385 0.82969432]\n"
          ]
        }
      ]
    },
    {
      "cell_type": "code",
      "source": [
        "#test with chosen model linear svc\n",
        "test_set = ['very fun', 'This Sucks', 'horrible waste of time']\n",
        "new_test = vectorizer.transform(test_set)\n",
        "print(clf_svc.predict(new_test))\n"
      ],
      "metadata": {
        "colab": {
          "base_uri": "https://localhost:8080/"
        },
        "collapsed": true,
        "id": "1av_-flU3M1E",
        "outputId": "3aea5cba-831e-4faa-b7d0-a982e88374e4"
      },
      "execution_count": null,
      "outputs": [
        {
          "output_type": "stream",
          "name": "stdout",
          "text": [
            "['POSITIVE' 'POSITIVE' 'NEGATIVE']\n"
          ]
        }
      ]
    },
    {
      "cell_type": "code",
      "source": [
        "#grid search improvement\n",
        "from sklearn import svm\n",
        "\n",
        "parameters = {'C':[1, 10]}\n",
        "svc = LinearSVC()\n",
        "clf = GridSearchCV(svc, parameters, cv=5)\n",
        "clf.fit(train_x_vectors, y_train)\n",
        "print(clf.score(test_x_vectors, y_test))"
      ],
      "metadata": {
        "colab": {
          "base_uri": "https://localhost:8080/"
        },
        "id": "wlmvqRrRDtjG",
        "outputId": "6366a712-bddd-43e8-d582-a5d07cde7d61"
      },
      "execution_count": null,
      "outputs": [
        {
          "output_type": "stream",
          "name": "stdout",
          "text": [
            "0.8221153846153846\n"
          ]
        }
      ]
    },
    {
      "cell_type": "code",
      "source": [
        "#save model\n",
        "import pickle\n",
        "\n",
        "with open('sentiment_classifier.pkl', 'wb') as f:\n",
        "    pickle.dump(clf, f)"
      ],
      "metadata": {
        "id": "eyngl1MAF-GN"
      },
      "execution_count": null,
      "outputs": []
    },
    {
      "cell_type": "code",
      "source": [
        "#load model\n",
        "with open('sentiment_classifier.pkl', 'rb') as f:\n",
        "    loaded_clf = pickle.load(f)\n",
        "\n",
        "print(x_test[6])\n",
        "loaded_clf.predict(test_x_vectors[6])"
      ],
      "metadata": {
        "colab": {
          "base_uri": "https://localhost:8080/"
        },
        "id": "DX-a-SVEGXkZ",
        "outputId": "29373879-35a6-4399-de65-49e32d13b318"
      },
      "execution_count": null,
      "outputs": [
        {
          "output_type": "stream",
          "name": "stdout",
          "text": [
            "I started this because i was searching for something personal, something that would touch me and what I was experiencing at the time.  Unfortunately, this book did not touch me nor changed my life forever.  To be fair, however, I may give it another chance.\n"
          ]
        },
        {
          "output_type": "execute_result",
          "data": {
            "text/plain": [
              "array(['NEGATIVE'], dtype='<U8')"
            ]
          },
          "metadata": {},
          "execution_count": 148
        }
      ]
    }
  ]
}